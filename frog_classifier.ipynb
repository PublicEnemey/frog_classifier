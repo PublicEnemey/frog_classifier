{
 "cells": [
  {
   "cell_type": "code",
   "execution_count": 2,
   "metadata": {
    "id": "N7gv73IPenYh"
   },
   "outputs": [
    {
     "name": "stdout",
     "output_type": "stream",
     "text": [
      "\u001b[31mERROR: pip's dependency resolver does not currently take into account all the packages that are installed. This behaviour is the source of the following dependency conflicts.\r\n",
      "spyder 4.1.4 requires pyqt5<5.13; python_version >= \"3\", which is not installed.\r\n",
      "spyder 4.1.4 requires pyqtwebengine<5.13; python_version >= \"3\", which is not installed.\r\n",
      "voila 0.3.0 requires nbconvert<7,>=6.0.0, but you have nbconvert 5.6.1 which is incompatible.\u001b[0m\r\n"
     ]
    },
    {
     "name": "stderr",
     "output_type": "stream",
     "text": [
      "/opt/anaconda3/lib/python3.8/site-packages/fastbook/__init__.py:19: UserWarning: Missing `graphviz` - please run `conda install fastbook`\n",
      "  except ModuleNotFoundError: warn(\"Missing `graphviz` - please run `conda install fastbook`\")\n"
     ]
    }
   ],
   "source": [
    "!pip install -Uqq fastbook\n",
    "import fastbook\n",
    "fastbook.setup_book()"
   ]
  },
  {
   "cell_type": "code",
   "execution_count": 3,
   "metadata": {
    "id": "m9mShFEZfO29"
   },
   "outputs": [],
   "source": [
    "from fastai.vision.all import *\n",
    "from fastai.vision.widgets import *"
   ]
  },
  {
   "cell_type": "code",
   "execution_count": 4,
   "metadata": {
    "id": "PiXb6sICetmH"
   },
   "outputs": [],
   "source": [
    "path = Path()\n",
    "learn_inf = load_learner(path/'export.pkl', cpu=True)\n",
    "btn_upload = widgets.FileUpload()\n",
    "out_pl = widgets.Output()\n",
    "lbl_pred = widgets.Label()"
   ]
  },
  {
   "cell_type": "code",
   "execution_count": 5,
   "metadata": {
    "id": "thv8ugMqgc6N"
   },
   "outputs": [],
   "source": [
    "def on_data_change(change):\n",
    "    lbl_pred.value = ''\n",
    "    img = PILImage.create(btn_upload.data[-1])\n",
    "    out_pl.clear_output()\n",
    "    with out_pl: display(img.to_thumb(128,128))\n",
    "    pred,pred_idx,probs = learn_inf.predict(img)\n",
    "    lbl_pred.value = f'Prediction: {pred}; Probability: {probs[pred_idx]:.04f}'"
   ]
  },
  {
   "cell_type": "code",
   "execution_count": 6,
   "metadata": {
    "id": "xSRg8eobgjP6"
   },
   "outputs": [],
   "source": [
    "btn_upload.observe(on_data_change, names=['data'])"
   ]
  },
  {
   "cell_type": "code",
   "execution_count": 7,
   "metadata": {
    "colab": {
     "base_uri": "https://localhost:8080/",
     "height": 209,
     "referenced_widgets": [
      "3a3ba479c086401fa4d5a0affa2fdbaa",
      "cb3ca081adad4b78a9f543190b4a1c32",
      "5485c090e23d4e0796fffc594cfd607c",
      "33c8b39ddb53448291e8bbc53c8810cb",
      "215f0e5dcc1042f19b85c4a6fe4d8cc1",
      "01acb87f6fa74b4b9d25de93dc3bc74e",
      "6456aa12c68f4e16b2b3353799b3550f",
      "ac44316d07db4ab18c2fda4b46f8edf6",
      "186f5f2187b34c018a51988591fc58d8",
      "912148a2effa4aebb64159b1503ec85d",
      "9b82c6e301dc440494afd3b89dc9a7d4",
      "d801df05ee85439aa3dfc4fd8eb2bd5c",
      "d8b5b9f39edb44928774d31ad5efc326"
     ]
    },
    "id": "Ua0HsAAjgmDU",
    "outputId": "234e2cd0-bef9-455c-95c8-97a2ffa7c9d6"
   },
   "outputs": [
    {
     "data": {
      "application/vnd.jupyter.widget-view+json": {
       "model_id": "0b07f123f1e04a419fa033bec40dc629",
       "version_major": 2,
       "version_minor": 0
      },
      "text/plain": [
       "VBox(children=(Label(value='Select your frog!'), FileUpload(value={}, description='Upload'), Output(), Label(v…"
      ]
     },
     "metadata": {},
     "output_type": "display_data"
    }
   ],
   "source": [
    "display(VBox([widgets.Label('Select your frog!'), btn_upload, out_pl, lbl_pred]))"
   ]
  },
  {
   "cell_type": "code",
   "execution_count": 8,
   "metadata": {},
   "outputs": [
    {
     "name": "stdout",
     "output_type": "stream",
     "text": [
      "\u001b[33mWARNING: Ignoring invalid distribution -andas (/opt/anaconda3/lib/python3.8/site-packages)\u001b[0m\n",
      "\u001b[33mWARNING: Ignoring invalid distribution -andas (/opt/anaconda3/lib/python3.8/site-packages)\u001b[0m\n",
      "Requirement already satisfied: voila in /opt/anaconda3/lib/python3.8/site-packages (0.3.0)\n",
      "Requirement already satisfied: jupyter-server<2.0.0,>=0.3.0 in /opt/anaconda3/lib/python3.8/site-packages (from voila) (1.13.3)\n",
      "Requirement already satisfied: jupyter-client<8,>=6.1.3 in /opt/anaconda3/lib/python3.8/site-packages (from voila) (6.1.6)\n",
      "Requirement already satisfied: nbclient<0.6,>=0.4.0 in /opt/anaconda3/lib/python3.8/site-packages (from voila) (0.5.10)\n",
      "Requirement already satisfied: websockets>=9.0 in /opt/anaconda3/lib/python3.8/site-packages (from voila) (10.1)\n",
      "Collecting nbconvert<7,>=6.0.0\n",
      "  Using cached nbconvert-6.4.0-py3-none-any.whl (557 kB)\n",
      "Requirement already satisfied: python-dateutil>=2.1 in /opt/anaconda3/lib/python3.8/site-packages (from jupyter-client<8,>=6.1.3->voila) (2.8.1)\n",
      "Requirement already satisfied: pyzmq>=13 in /opt/anaconda3/lib/python3.8/site-packages (from jupyter-client<8,>=6.1.3->voila) (19.0.1)\n",
      "Requirement already satisfied: traitlets in /opt/anaconda3/lib/python3.8/site-packages (from jupyter-client<8,>=6.1.3->voila) (5.1.1)\n",
      "Requirement already satisfied: tornado>=4.1 in /opt/anaconda3/lib/python3.8/site-packages (from jupyter-client<8,>=6.1.3->voila) (6.1)\n",
      "Requirement already satisfied: jupyter-core>=4.6.0 in /opt/anaconda3/lib/python3.8/site-packages (from jupyter-client<8,>=6.1.3->voila) (4.6.3)\n",
      "Requirement already satisfied: jinja2 in /opt/anaconda3/lib/python3.8/site-packages (from jupyter-server<2.0.0,>=0.3.0->voila) (2.11.2)\n",
      "Requirement already satisfied: websocket-client in /opt/anaconda3/lib/python3.8/site-packages (from jupyter-server<2.0.0,>=0.3.0->voila) (1.2.3)\n",
      "Requirement already satisfied: packaging in /opt/anaconda3/lib/python3.8/site-packages (from jupyter-server<2.0.0,>=0.3.0->voila) (20.4)\n",
      "Requirement already satisfied: nbformat in /opt/anaconda3/lib/python3.8/site-packages (from jupyter-server<2.0.0,>=0.3.0->voila) (5.0.7)\n",
      "Requirement already satisfied: Send2Trash in /opt/anaconda3/lib/python3.8/site-packages (from jupyter-server<2.0.0,>=0.3.0->voila) (1.5.0)\n",
      "Requirement already satisfied: argon2-cffi in /opt/anaconda3/lib/python3.8/site-packages (from jupyter-server<2.0.0,>=0.3.0->voila) (21.3.0)\n",
      "Requirement already satisfied: ipython-genutils in /opt/anaconda3/lib/python3.8/site-packages (from jupyter-server<2.0.0,>=0.3.0->voila) (0.2.0)\n",
      "Requirement already satisfied: anyio<4,>=3.1.0 in /opt/anaconda3/lib/python3.8/site-packages (from jupyter-server<2.0.0,>=0.3.0->voila) (3.5.0)\n",
      "Requirement already satisfied: terminado>=0.8.3 in /opt/anaconda3/lib/python3.8/site-packages (from jupyter-server<2.0.0,>=0.3.0->voila) (0.8.3)\n",
      "Requirement already satisfied: prometheus-client in /opt/anaconda3/lib/python3.8/site-packages (from jupyter-server<2.0.0,>=0.3.0->voila) (0.8.0)\n",
      "Requirement already satisfied: sniffio>=1.1 in /opt/anaconda3/lib/python3.8/site-packages (from anyio<4,>=3.1.0->jupyter-server<2.0.0,>=0.3.0->voila) (1.2.0)\n",
      "Requirement already satisfied: idna>=2.8 in /opt/anaconda3/lib/python3.8/site-packages (from anyio<4,>=3.1.0->jupyter-server<2.0.0,>=0.3.0->voila) (2.10)\n",
      "Requirement already satisfied: nest-asyncio in /opt/anaconda3/lib/python3.8/site-packages (from nbclient<0.6,>=0.4.0->voila) (1.5.4)\n",
      "Requirement already satisfied: pandocfilters>=1.4.1 in /opt/anaconda3/lib/python3.8/site-packages (from nbconvert<7,>=6.0.0->voila) (1.4.2)\n",
      "Requirement already satisfied: pygments>=2.4.1 in /opt/anaconda3/lib/python3.8/site-packages (from nbconvert<7,>=6.0.0->voila) (2.6.1)\n",
      "Requirement already satisfied: mistune<2,>=0.8.1 in /opt/anaconda3/lib/python3.8/site-packages (from nbconvert<7,>=6.0.0->voila) (0.8.4)\n",
      "Requirement already satisfied: testpath in /opt/anaconda3/lib/python3.8/site-packages (from nbconvert<7,>=6.0.0->voila) (0.4.4)\n",
      "Requirement already satisfied: entrypoints>=0.2.2 in /opt/anaconda3/lib/python3.8/site-packages (from nbconvert<7,>=6.0.0->voila) (0.3)\n",
      "Requirement already satisfied: defusedxml in /opt/anaconda3/lib/python3.8/site-packages (from nbconvert<7,>=6.0.0->voila) (0.6.0)\n",
      "Requirement already satisfied: bleach in /opt/anaconda3/lib/python3.8/site-packages (from nbconvert<7,>=6.0.0->voila) (3.1.5)\n",
      "Requirement already satisfied: jupyterlab-pygments in /opt/anaconda3/lib/python3.8/site-packages (from nbconvert<7,>=6.0.0->voila) (0.1.2)\n",
      "Requirement already satisfied: MarkupSafe>=0.23 in /opt/anaconda3/lib/python3.8/site-packages (from jinja2->jupyter-server<2.0.0,>=0.3.0->voila) (1.1.1)\n",
      "Requirement already satisfied: jsonschema!=2.5.0,>=2.4 in /opt/anaconda3/lib/python3.8/site-packages (from nbformat->jupyter-server<2.0.0,>=0.3.0->voila) (3.2.0)\n",
      "Requirement already satisfied: six>=1.11.0 in /opt/anaconda3/lib/python3.8/site-packages (from jsonschema!=2.5.0,>=2.4->nbformat->jupyter-server<2.0.0,>=0.3.0->voila) (1.15.0)\n",
      "Requirement already satisfied: attrs>=17.4.0 in /opt/anaconda3/lib/python3.8/site-packages (from jsonschema!=2.5.0,>=2.4->nbformat->jupyter-server<2.0.0,>=0.3.0->voila) (19.3.0)\n",
      "Requirement already satisfied: pyrsistent>=0.14.0 in /opt/anaconda3/lib/python3.8/site-packages (from jsonschema!=2.5.0,>=2.4->nbformat->jupyter-server<2.0.0,>=0.3.0->voila) (0.16.0)\n",
      "Requirement already satisfied: setuptools in /opt/anaconda3/lib/python3.8/site-packages (from jsonschema!=2.5.0,>=2.4->nbformat->jupyter-server<2.0.0,>=0.3.0->voila) (49.2.0.post20200714)\n",
      "Requirement already satisfied: argon2-cffi-bindings in /opt/anaconda3/lib/python3.8/site-packages (from argon2-cffi->jupyter-server<2.0.0,>=0.3.0->voila) (21.2.0)\n",
      "Requirement already satisfied: cffi>=1.0.1 in /opt/anaconda3/lib/python3.8/site-packages (from argon2-cffi-bindings->argon2-cffi->jupyter-server<2.0.0,>=0.3.0->voila) (1.14.0)\n",
      "Requirement already satisfied: pycparser in /opt/anaconda3/lib/python3.8/site-packages (from cffi>=1.0.1->argon2-cffi-bindings->argon2-cffi->jupyter-server<2.0.0,>=0.3.0->voila) (2.20)\n",
      "Requirement already satisfied: webencodings in /opt/anaconda3/lib/python3.8/site-packages (from bleach->nbconvert<7,>=6.0.0->voila) (0.5.1)\n",
      "Requirement already satisfied: pyparsing>=2.0.2 in /opt/anaconda3/lib/python3.8/site-packages (from packaging->jupyter-server<2.0.0,>=0.3.0->voila) (2.4.7)\n",
      "\u001b[33mWARNING: Ignoring invalid distribution -andas (/opt/anaconda3/lib/python3.8/site-packages)\u001b[0m\n",
      "Installing collected packages: nbconvert\n",
      "  Attempting uninstall: nbconvert\n",
      "\u001b[33m    WARNING: Ignoring invalid distribution -andas (/opt/anaconda3/lib/python3.8/site-packages)\u001b[0m\n",
      "    Found existing installation: nbconvert 5.6.1\n",
      "    Uninstalling nbconvert-5.6.1:\n",
      "      Successfully uninstalled nbconvert-5.6.1\n",
      "\u001b[33mWARNING: Ignoring invalid distribution -andas (/opt/anaconda3/lib/python3.8/site-packages)\u001b[0m\n",
      "\u001b[31mERROR: pip's dependency resolver does not currently take into account all the packages that are installed. This behaviour is the source of the following dependency conflicts.\n",
      "spyder 4.1.4 requires pyqt5<5.13; python_version >= \"3\", which is not installed.\n",
      "spyder 4.1.4 requires pyqtwebengine<5.13; python_version >= \"3\", which is not installed.\n",
      "nbdev 1.1.23 requires nbconvert<6, but you have nbconvert 6.4.0 which is incompatible.\u001b[0m\n",
      "Successfully installed nbconvert-6.4.0\n",
      "\u001b[33mWARNING: Ignoring invalid distribution -andas (/opt/anaconda3/lib/python3.8/site-packages)\u001b[0m\n",
      "\u001b[33mWARNING: Ignoring invalid distribution -andas (/opt/anaconda3/lib/python3.8/site-packages)\u001b[0m\n",
      "\u001b[33mWARNING: Ignoring invalid distribution -andas (/opt/anaconda3/lib/python3.8/site-packages)\u001b[0m\n",
      "\u001b[33mWARNING: You are using pip version 21.2.4; however, version 21.3.1 is available.\n",
      "You should consider upgrading via the '/opt/anaconda3/bin/python -m pip install --upgrade pip' command.\u001b[0m\n",
      "Enabling: voila\n",
      "- Writing config: /opt/anaconda3/etc/jupyter\n",
      "    - Validating...\n",
      "      voila 0.3.0 \u001b[32mOK\u001b[0m\n"
     ]
    }
   ],
   "source": [
    "!pip install voila\n",
    "!jupyter serverextension enable --sys-prefix voila"
   ]
  },
  {
   "cell_type": "code",
   "execution_count": null,
   "metadata": {},
   "outputs": [],
   "source": []
  }
 ],
 "metadata": {
  "colab": {
   "collapsed_sections": [],
   "name": "frog_classifier.ipynb",
   "provenance": []
  },
  "kernelspec": {
   "display_name": "Python 3",
   "language": "python",
   "name": "python3"
  },
  "language_info": {
   "codemirror_mode": {
    "name": "ipython",
    "version": 3
   },
   "file_extension": ".py",
   "mimetype": "text/x-python",
   "name": "python",
   "nbconvert_exporter": "python",
   "pygments_lexer": "ipython3",
   "version": "3.8.3"
  },
  "widgets": {
   "application/vnd.jupyter.widget-state+json": {
    "01acb87f6fa74b4b9d25de93dc3bc74e": {
     "model_module": "@jupyter-widgets/controls",
     "model_module_version": "1.5.0",
     "model_name": "LabelModel",
     "state": {
      "_dom_classes": [],
      "_model_module": "@jupyter-widgets/controls",
      "_model_module_version": "1.5.0",
      "_model_name": "LabelModel",
      "_view_count": null,
      "_view_module": "@jupyter-widgets/controls",
      "_view_module_version": "1.5.0",
      "_view_name": "LabelView",
      "description": "",
      "description_tooltip": null,
      "layout": "IPY_MODEL_d801df05ee85439aa3dfc4fd8eb2bd5c",
      "placeholder": "​",
      "style": "IPY_MODEL_9b82c6e301dc440494afd3b89dc9a7d4",
      "value": "Prediction: toad; Probability: 0.9959"
     }
    },
    "186f5f2187b34c018a51988591fc58d8": {
     "model_module": "@jupyter-widgets/controls",
     "model_module_version": "1.5.0",
     "model_name": "ButtonStyleModel",
     "state": {
      "_model_module": "@jupyter-widgets/controls",
      "_model_module_version": "1.5.0",
      "_model_name": "ButtonStyleModel",
      "_view_count": null,
      "_view_module": "@jupyter-widgets/base",
      "_view_module_version": "1.2.0",
      "_view_name": "StyleView",
      "button_color": null,
      "font_weight": ""
     }
    },
    "215f0e5dcc1042f19b85c4a6fe4d8cc1": {
     "model_module": "@jupyter-widgets/output",
     "model_module_version": "1.0.0",
     "model_name": "OutputModel",
     "state": {
      "_dom_classes": [],
      "_model_module": "@jupyter-widgets/output",
      "_model_module_version": "1.0.0",
      "_model_name": "OutputModel",
      "_view_count": null,
      "_view_module": "@jupyter-widgets/output",
      "_view_module_version": "1.0.0",
      "_view_name": "OutputView",
      "layout": "IPY_MODEL_d8b5b9f39edb44928774d31ad5efc326",
      "msg_id": "",
      "outputs": [
       {
        "data": {
         "image/png": "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\n",
         "text/plain": "<PIL.Image.Image image mode=RGB size=128x96 at 0x7FF3DEA15D90>"
        },
        "metadata": {},
        "output_type": "display_data"
       }
      ]
     }
    },
    "33c8b39ddb53448291e8bbc53c8810cb": {
     "model_module": "@jupyter-widgets/controls",
     "model_module_version": "1.5.0",
     "model_name": "FileUploadModel",
     "state": {
      "_counter": 1,
      "_dom_classes": [],
      "_model_module": "@jupyter-widgets/controls",
      "_model_module_version": "1.5.0",
      "_model_name": "FileUploadModel",
      "_view_count": null,
      "_view_module": "@jupyter-widgets/controls",
      "_view_module_version": "1.5.0",
      "_view_name": "FileUploadView",
      "accept": "",
      "button_style": "",
      "data": [
       null
      ],
      "description": "Upload",
      "description_tooltip": null,
      "disabled": false,
      "error": "",
      "icon": "upload",
      "layout": "IPY_MODEL_912148a2effa4aebb64159b1503ec85d",
      "metadata": [
       {
        "lastModified": 1642530741777,
        "name": "toad.jpg",
        "size": 7850,
        "type": "image/jpeg"
       }
      ],
      "multiple": false,
      "style": "IPY_MODEL_186f5f2187b34c018a51988591fc58d8"
     }
    },
    "3a3ba479c086401fa4d5a0affa2fdbaa": {
     "model_module": "@jupyter-widgets/controls",
     "model_module_version": "1.5.0",
     "model_name": "VBoxModel",
     "state": {
      "_dom_classes": [],
      "_model_module": "@jupyter-widgets/controls",
      "_model_module_version": "1.5.0",
      "_model_name": "VBoxModel",
      "_view_count": null,
      "_view_module": "@jupyter-widgets/controls",
      "_view_module_version": "1.5.0",
      "_view_name": "VBoxView",
      "box_style": "",
      "children": [
       "IPY_MODEL_5485c090e23d4e0796fffc594cfd607c",
       "IPY_MODEL_33c8b39ddb53448291e8bbc53c8810cb",
       "IPY_MODEL_215f0e5dcc1042f19b85c4a6fe4d8cc1",
       "IPY_MODEL_01acb87f6fa74b4b9d25de93dc3bc74e"
      ],
      "layout": "IPY_MODEL_cb3ca081adad4b78a9f543190b4a1c32"
     }
    },
    "5485c090e23d4e0796fffc594cfd607c": {
     "model_module": "@jupyter-widgets/controls",
     "model_module_version": "1.5.0",
     "model_name": "LabelModel",
     "state": {
      "_dom_classes": [],
      "_model_module": "@jupyter-widgets/controls",
      "_model_module_version": "1.5.0",
      "_model_name": "LabelModel",
      "_view_count": null,
      "_view_module": "@jupyter-widgets/controls",
      "_view_module_version": "1.5.0",
      "_view_name": "LabelView",
      "description": "",
      "description_tooltip": null,
      "layout": "IPY_MODEL_ac44316d07db4ab18c2fda4b46f8edf6",
      "placeholder": "​",
      "style": "IPY_MODEL_6456aa12c68f4e16b2b3353799b3550f",
      "value": "Select your frog!"
     }
    },
    "6456aa12c68f4e16b2b3353799b3550f": {
     "model_module": "@jupyter-widgets/controls",
     "model_module_version": "1.5.0",
     "model_name": "DescriptionStyleModel",
     "state": {
      "_model_module": "@jupyter-widgets/controls",
      "_model_module_version": "1.5.0",
      "_model_name": "DescriptionStyleModel",
      "_view_count": null,
      "_view_module": "@jupyter-widgets/base",
      "_view_module_version": "1.2.0",
      "_view_name": "StyleView",
      "description_width": ""
     }
    },
    "912148a2effa4aebb64159b1503ec85d": {
     "model_module": "@jupyter-widgets/base",
     "model_module_version": "1.2.0",
     "model_name": "LayoutModel",
     "state": {
      "_model_module": "@jupyter-widgets/base",
      "_model_module_version": "1.2.0",
      "_model_name": "LayoutModel",
      "_view_count": null,
      "_view_module": "@jupyter-widgets/base",
      "_view_module_version": "1.2.0",
      "_view_name": "LayoutView",
      "align_content": null,
      "align_items": null,
      "align_self": null,
      "border": null,
      "bottom": null,
      "display": null,
      "flex": null,
      "flex_flow": null,
      "grid_area": null,
      "grid_auto_columns": null,
      "grid_auto_flow": null,
      "grid_auto_rows": null,
      "grid_column": null,
      "grid_gap": null,
      "grid_row": null,
      "grid_template_areas": null,
      "grid_template_columns": null,
      "grid_template_rows": null,
      "height": null,
      "justify_content": null,
      "justify_items": null,
      "left": null,
      "margin": null,
      "max_height": null,
      "max_width": null,
      "min_height": null,
      "min_width": null,
      "object_fit": null,
      "object_position": null,
      "order": null,
      "overflow": null,
      "overflow_x": null,
      "overflow_y": null,
      "padding": null,
      "right": null,
      "top": null,
      "visibility": null,
      "width": null
     }
    },
    "9b82c6e301dc440494afd3b89dc9a7d4": {
     "model_module": "@jupyter-widgets/controls",
     "model_module_version": "1.5.0",
     "model_name": "DescriptionStyleModel",
     "state": {
      "_model_module": "@jupyter-widgets/controls",
      "_model_module_version": "1.5.0",
      "_model_name": "DescriptionStyleModel",
      "_view_count": null,
      "_view_module": "@jupyter-widgets/base",
      "_view_module_version": "1.2.0",
      "_view_name": "StyleView",
      "description_width": ""
     }
    },
    "ac44316d07db4ab18c2fda4b46f8edf6": {
     "model_module": "@jupyter-widgets/base",
     "model_module_version": "1.2.0",
     "model_name": "LayoutModel",
     "state": {
      "_model_module": "@jupyter-widgets/base",
      "_model_module_version": "1.2.0",
      "_model_name": "LayoutModel",
      "_view_count": null,
      "_view_module": "@jupyter-widgets/base",
      "_view_module_version": "1.2.0",
      "_view_name": "LayoutView",
      "align_content": null,
      "align_items": null,
      "align_self": null,
      "border": null,
      "bottom": null,
      "display": null,
      "flex": null,
      "flex_flow": null,
      "grid_area": null,
      "grid_auto_columns": null,
      "grid_auto_flow": null,
      "grid_auto_rows": null,
      "grid_column": null,
      "grid_gap": null,
      "grid_row": null,
      "grid_template_areas": null,
      "grid_template_columns": null,
      "grid_template_rows": null,
      "height": null,
      "justify_content": null,
      "justify_items": null,
      "left": null,
      "margin": null,
      "max_height": null,
      "max_width": null,
      "min_height": null,
      "min_width": null,
      "object_fit": null,
      "object_position": null,
      "order": null,
      "overflow": null,
      "overflow_x": null,
      "overflow_y": null,
      "padding": null,
      "right": null,
      "top": null,
      "visibility": null,
      "width": null
     }
    },
    "cb3ca081adad4b78a9f543190b4a1c32": {
     "model_module": "@jupyter-widgets/base",
     "model_module_version": "1.2.0",
     "model_name": "LayoutModel",
     "state": {
      "_model_module": "@jupyter-widgets/base",
      "_model_module_version": "1.2.0",
      "_model_name": "LayoutModel",
      "_view_count": null,
      "_view_module": "@jupyter-widgets/base",
      "_view_module_version": "1.2.0",
      "_view_name": "LayoutView",
      "align_content": null,
      "align_items": null,
      "align_self": null,
      "border": null,
      "bottom": null,
      "display": null,
      "flex": null,
      "flex_flow": null,
      "grid_area": null,
      "grid_auto_columns": null,
      "grid_auto_flow": null,
      "grid_auto_rows": null,
      "grid_column": null,
      "grid_gap": null,
      "grid_row": null,
      "grid_template_areas": null,
      "grid_template_columns": null,
      "grid_template_rows": null,
      "height": null,
      "justify_content": null,
      "justify_items": null,
      "left": null,
      "margin": null,
      "max_height": null,
      "max_width": null,
      "min_height": null,
      "min_width": null,
      "object_fit": null,
      "object_position": null,
      "order": null,
      "overflow": null,
      "overflow_x": null,
      "overflow_y": null,
      "padding": null,
      "right": null,
      "top": null,
      "visibility": null,
      "width": null
     }
    },
    "d801df05ee85439aa3dfc4fd8eb2bd5c": {
     "model_module": "@jupyter-widgets/base",
     "model_module_version": "1.2.0",
     "model_name": "LayoutModel",
     "state": {
      "_model_module": "@jupyter-widgets/base",
      "_model_module_version": "1.2.0",
      "_model_name": "LayoutModel",
      "_view_count": null,
      "_view_module": "@jupyter-widgets/base",
      "_view_module_version": "1.2.0",
      "_view_name": "LayoutView",
      "align_content": null,
      "align_items": null,
      "align_self": null,
      "border": null,
      "bottom": null,
      "display": null,
      "flex": null,
      "flex_flow": null,
      "grid_area": null,
      "grid_auto_columns": null,
      "grid_auto_flow": null,
      "grid_auto_rows": null,
      "grid_column": null,
      "grid_gap": null,
      "grid_row": null,
      "grid_template_areas": null,
      "grid_template_columns": null,
      "grid_template_rows": null,
      "height": null,
      "justify_content": null,
      "justify_items": null,
      "left": null,
      "margin": null,
      "max_height": null,
      "max_width": null,
      "min_height": null,
      "min_width": null,
      "object_fit": null,
      "object_position": null,
      "order": null,
      "overflow": null,
      "overflow_x": null,
      "overflow_y": null,
      "padding": null,
      "right": null,
      "top": null,
      "visibility": null,
      "width": null
     }
    },
    "d8b5b9f39edb44928774d31ad5efc326": {
     "model_module": "@jupyter-widgets/base",
     "model_module_version": "1.2.0",
     "model_name": "LayoutModel",
     "state": {
      "_model_module": "@jupyter-widgets/base",
      "_model_module_version": "1.2.0",
      "_model_name": "LayoutModel",
      "_view_count": null,
      "_view_module": "@jupyter-widgets/base",
      "_view_module_version": "1.2.0",
      "_view_name": "LayoutView",
      "align_content": null,
      "align_items": null,
      "align_self": null,
      "border": null,
      "bottom": null,
      "display": null,
      "flex": null,
      "flex_flow": null,
      "grid_area": null,
      "grid_auto_columns": null,
      "grid_auto_flow": null,
      "grid_auto_rows": null,
      "grid_column": null,
      "grid_gap": null,
      "grid_row": null,
      "grid_template_areas": null,
      "grid_template_columns": null,
      "grid_template_rows": null,
      "height": null,
      "justify_content": null,
      "justify_items": null,
      "left": null,
      "margin": null,
      "max_height": null,
      "max_width": null,
      "min_height": null,
      "min_width": null,
      "object_fit": null,
      "object_position": null,
      "order": null,
      "overflow": null,
      "overflow_x": null,
      "overflow_y": null,
      "padding": null,
      "right": null,
      "top": null,
      "visibility": null,
      "width": null
     }
    }
   }
  }
 },
 "nbformat": 4,
 "nbformat_minor": 1
}
